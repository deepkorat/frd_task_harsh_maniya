{
 "cells": [
  {
   "cell_type": "code",
   "execution_count": null,
   "id": "d0c1a66f",
   "metadata": {},
   "outputs": [],
   "source": [
    "print(1,2,3,4)"
   ]
  },
  {
   "cell_type": "code",
   "execution_count": 9,
   "id": "c6c484c2",
   "metadata": {},
   "outputs": [
    {
     "name": "stdout",
     "output_type": "stream",
     "text": [
      "1 deep 32.330\n"
     ]
    }
   ],
   "source": [
    "# stirng modula roperato \n",
    "print('%d %s %.3f' % (1, \"deep\", 32.3299389))"
   ]
  },
  {
   "cell_type": "code",
   "execution_count": 11,
   "id": "f5879597",
   "metadata": {},
   "outputs": [
    {
     "data": {
      "text/plain": [
       "'∑'"
      ]
     },
     "execution_count": 11,
     "metadata": {},
     "output_type": "execute_result"
    }
   ],
   "source": [
    "\"%c\" % 8721"
   ]
  },
  {
   "cell_type": "code",
   "execution_count": 14,
   "id": "eae0a71c",
   "metadata": {},
   "outputs": [],
   "source": [
    "import math\n"
   ]
  },
  {
   "cell_type": "code",
   "execution_count": 24,
   "id": "f8041e1d",
   "metadata": {},
   "outputs": [],
   "source": [
    "a = [3,4,5,5,]"
   ]
  },
  {
   "cell_type": "code",
   "execution_count": 25,
   "id": "93bb7abf",
   "metadata": {},
   "outputs": [
    {
     "data": {
      "text/plain": [
       "[3, 4, 5, 5]"
      ]
     },
     "execution_count": 25,
     "metadata": {},
     "output_type": "execute_result"
    }
   ],
   "source": [
    "a"
   ]
  }
 ],
 "metadata": {
  "kernelspec": {
   "display_name": "Python 3 (ipykernel)",
   "language": "python",
   "name": "python3"
  },
  "language_info": {
   "codemirror_mode": {
    "name": "ipython",
    "version": 3
   },
   "file_extension": ".py",
   "mimetype": "text/x-python",
   "name": "python",
   "nbconvert_exporter": "python",
   "pygments_lexer": "ipython3",
   "version": "3.10.9"
  }
 },
 "nbformat": 4,
 "nbformat_minor": 5
}
