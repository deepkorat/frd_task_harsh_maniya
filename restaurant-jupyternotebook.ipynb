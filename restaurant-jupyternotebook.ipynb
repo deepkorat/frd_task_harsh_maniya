{
 "cells": [
  {
   "cell_type": "markdown",
   "id": "afec5f20",
   "metadata": {},
   "source": [
    "### Data from chatGPT"
   ]
  },
  {
   "cell_type": "code",
   "execution_count": 282,
   "id": "bd5a163d",
   "metadata": {},
   "outputs": [],
   "source": [
    "restaurant_data = [\n",
    "    {\"ID\": 1, \"Type of Dish\": \"Appetizer\", \"Item Name\": \"Caprese Salad\", \"Description\": \"Fresh mozzarella, tomatoes, and basil drizzled with balsamic glaze.\", \"Price\": 8.99, \"Availability\": \"Yes\", \"Spiciness Level\": \"Mild\", \"Calories\": 250, \"Allergens\": \"Gluten-free\", \"Recommended Drink\": \"White Wine\"},\n",
    "    {\"ID\": 2, \"Type of Dish\": \"Main Course\", \"Item Name\": \"Grilled Salmon\", \"Description\": \"Grilled salmon fillet served with lemon butter sauce and roasted vegetables.\", \"Price\": 18.99, \"Availability\": \"Yes\", \"Spiciness Level\": \"Moderate\", \"Calories\": 350, \"Allergens\": \"Dairy-free, Gluten-free\", \"Recommended Drink\": \"Chardonnay\"},\n",
    "    {\"ID\": 3, \"Type of Dish\": \"Dessert\", \"Item Name\": \"Chocolate Lava Cake\", \"Description\": \"Warm chocolate cake with a molten chocolate center, served with vanilla ice cream.\", \"Price\": 6.99, \"Availability\": \"Yes\", \"Spiciness Level\": \"Moderate\", \"Calories\": 400, \"Allergens\": \"Nut-free\", \"Recommended Drink\": \"Coffee\"},\n",
    "    {\"ID\": 4, \"Type of Dish\": \"Appetizer\", \"Item Name\": \"Spinach Artichoke Dip\", \"Description\": \"Creamy dip with spinach, artichokes, and cheese, served with tortilla chips.\", \"Price\": 7.49, \"Availability\": \"Yes\", \"Spiciness Level\": \"Mild\", \"Calories\": 300, \"Allergens\": \"Nut-free, Gluten-free\", \"Recommended Drink\": \"Beer\"},\n",
    "    {\"ID\": 5, \"Type of Dish\": \"Main Course\", \"Item Name\": \"Chicken Alfredo\", \"Description\": \"Fettuccine pasta with creamy Alfredo sauce, grilled chicken, and Parmesan cheese.\", \"Price\": 14.99, \"Availability\": \"Yes\", \"Spiciness Level\": \"Moderate\", \"Calories\": 600, \"Allergens\": \"Gluten-free\", \"Recommended Drink\": \"White Wine\"},\n",
    "    {\"ID\": 6, \"Type of Dish\": \"Dessert\", \"Item Name\": \"Tiramisu\", \"Description\": \"Classic Italian dessert made with layers of coffee-soaked ladyfingers and mascarpone cheese.\", \"Price\": 8.49, \"Availability\": \"Yes\", \"Spiciness Level\": \"Mild\", \"Calories\": 450, \"Allergens\": \"Nut-free\", \"Recommended Drink\": \"Espresso\"},\n",
    "    {\"ID\": 7, \"Type of Dish\": \"Appetizer\", \"Item Name\": \"Shrimp Spring Rolls\", \"Description\": \"Fresh spring rolls filled with shrimp, vegetables, and rice vermicelli, served with peanut sauce.\", \"Price\": 9.99, \"Availability\": \"Yes\", \"Spiciness Level\": \"Moderate\", \"Calories\": 200, \"Allergens\": \"Gluten-free, Dairy-free\", \"Recommended Drink\": \"Iced Tea\"},\n",
    "    {\"ID\": 8, \"Type of Dish\": \"Main Course\", \"Item Name\": \"Beef Stir Fry\", \"Description\": \"Sliced beef, mixed vegetables, and soy sauce stir-fried to perfection, served with steamed rice.\", \"Price\": 16.49, \"Availability\": \"Yes\", \"Spiciness Level\": \"Spicy\", \"Calories\": 500, \"Allergens\": \"Nut-free\", \"Recommended Drink\": \"Sake\"},\n",
    "    {\"ID\": 9, \"Type of Dish\": \"Dessert\", \"Item Name\": \"Cheesecake\", \"Description\": \"New York-style cheesecake topped with strawberries and whipped cream.\", \"Price\": 7.99, \"Availability\": \"Yes\", \"Spiciness Level\": \"Mild\", \"Calories\": 550, \"Allergens\": \"Nut-free\", \"Recommended Drink\": \"Coffee\"},\n",
    "    {\"ID\": 10, \"Type of Dish\": \"Appetizer\", \"Item Name\": \"Bruschetta\", \"Description\": \"Grilled bread rubbed with garlic, topped with diced tomatoes, basil, and olive oil.\", \"Price\": 6.29, \"Availability\": \"Yes\", \"Spiciness Level\": \"Mild\", \"Calories\": 180, \"Allergens\": \"Dairy-free, Nut-free\", \"Recommended Drink\": \"White Wine\"},\n",
    "    {\"ID\": 11, \"Type of Dish\": \"Main Course\", \"Item Name\": \"Vegetarian Curry\", \"Description\": \"Mixed vegetables and tofu cooked in a flavorful curry sauce, served with naan bread.\", \"Price\": 12.99, \"Availability\": \"Yes\", \"Spiciness Level\": \"Spicy\", \"Calories\": 400, \"Allergens\": \"Dairy-free\", \"Recommended Drink\": \"Lassi\"},\n",
    "    {\"ID\": 12, \"Type of Dish\": \"Dessert\", \"Item Name\": \"Fruit Sorbet\", \"Description\": \"Refreshing sorbet made with a blend of seasonal fruits.\", \"Price\": 5.99, \"Availability\": \"Yes\", \"Spiciness Level\": \"Mild\", \"Calories\": 150, \"Allergens\": \"Dairy-free, Nut-free\", \"Recommended Drink\": \"Water\"},\n",
    "]"
   ]
  },
  {
   "cell_type": "markdown",
   "id": "0d7cbe66",
   "metadata": {},
   "source": [
    "### Extended data from chatGPT"
   ]
  },
  {
   "cell_type": "code",
   "execution_count": 115,
   "id": "40d1ed7e",
   "metadata": {},
   "outputs": [],
   "source": [
    "\n",
    "restaurant_data_extend = [\n",
    "    {\"ID\": 13, \"Type of Dish\": \"Appetizer\", \"Item Name\": \"Mozzarella Sticks\", \"Description\": \"Fried mozzarella cheese sticks served with marinara sauce.\", \"Price\": 7.49, \"Availability\": \"Yes\", \"Spiciness Level\": \"Mild\", \"Calories\": 320, \"Recommended Drink\": \"Beer\"},\n",
    "    {\"ID\": 14, \"Type of Dish\": \"Main Course\", \"Item Name\": \"Pasta Carbonara\", \"Description\": \"Spaghetti pasta with creamy egg and pancetta sauce.\", \"Price\": 12.99, \"Availability\": \"Yes\", \"Spiciness Level\": \"Mild\", \"Calories\": 450, \"Recommended Drink\": \"White Wine\"},\n",
    "    {\"ID\": 15, \"Type of Dish\": \"Dessert\", \"Item Name\": \"Red Velvet Cake\", \"Description\": \"Moist red velvet cake with cream cheese frosting.\", \"Price\": 6.99, \"Availability\": \"Yes\", \"Spiciness Level\": \"Mild\", \"Calories\": 380, \"Recommended Drink\": \"Coffee\"},\n",
    "    {\"ID\": 16, \"Type of Dish\": \"Appetizer\", \"Item Name\": \"Chicken Wings\", \"Description\": \"Crispy chicken wings tossed in your choice of sauce (BBQ, Buffalo, or Honey Mustard).\", \"Price\": 9.99, \"Availability\": \"Yes\", \"Spiciness Level\": \"Spicy\", \"Calories\": 420, \"Recommended Drink\": \"Iced Tea\"},\n",
    "    {\"ID\": 17, \"Type of Dish\": \"Main Course\", \"Item Name\": \"Steak Fajitas\", \"Description\": \"Sizzling marinated steak strips served with sautéed bell peppers and onions, tortillas, and condiments.\", \"Price\": 17.99, \"Availability\": \"Yes\", \"Spiciness Level\": \"Moderate\", \"Calories\": 550, \"Recommended Drink\": \"Margarita\"},\n",
    "    {\"ID\": 18, \"Type of Dish\": \"Dessert\", \"Item Name\": \"Key Lime Pie\", \"Description\": \"Tangy key lime pie with a graham cracker crust, topped with whipped cream.\", \"Price\": 7.49, \"Availability\": \"Yes\", \"Spiciness Level\": \"Mild\", \"Calories\": 320, \"Recommended Drink\": \"Lemonade\"},\n",
    "    {\"ID\": 19, \"Type of Dish\": \"Appetizer\", \"Item Name\": \"Nachos\", \"Description\": \"Tortilla chips topped with melted cheese, jalapeños, guacamole, and sour cream.\", \"Price\": 8.99, \"Availability\": \"Yes\", \"Spiciness Level\": \"Spicy\", \"Calories\": 480, \"Recommended Drink\": \"Beer\"},\n",
    "    {\"ID\": 20, \"Type of Dish\": \"Main Course\", \"Item Name\": \"Vegetable Stir Fry\", \"Description\": \"Assorted vegetables stir-fried in a savory sauce, served with steamed rice.\", \"Price\": 11.99, \"Availability\": \"Yes\", \"Spiciness Level\": \"Mild\", \"Calories\": 380, \"Recommended Drink\": \"Green Tea\"},\n",
    "    {\"ID\": 21, \"Type of Dish\": \"Dessert\", \"Item Name\": \"Mango Sorbet\", \"Description\": \"Refreshing sorbet made with ripe mangoes.\", \"Price\": 5.99, \"Availability\": \"Yes\", \"Spiciness Level\": \"Mild\", \"Calories\": 180, \"Recommended Drink\": \"Water\"},\n",
    "    {\"ID\": 22, \"Type of Dish\": \"Appetizer\", \"Item Name\": \"Caesar Salad\", \"Description\": \"Crisp romaine lettuce, croutons, Parmesan cheese, and Caesar dressing.\", \"Price\": 6.99, \"Availability\": \"Yes\", \"Spiciness Level\": \"Mild\", \"Calories\": 220, \"Recommended Drink\": \"White Wine\"},\n",
    "    {\"ID\": 23, \"Type of Dish\": \"Main Course\", \"Item Name\": \"Margherita Pizza\", \"Description\": \"Classic pizza with tomato sauce, mozzarella cheese, and fresh basil.\", \"Price\": 10.99, \"Availability\": \"Yes\", \"Spiciness Level\": \"Mild\", \"Calories\": 300, \"Recommended Drink\": \"Beer\"},\n",
    "    {\"ID\": 24, \"Type of Dish\": \"Dessert\", \"Item Name\": \"Strawberry Shortcake\", \"Description\": \"Sponge cake layered with fresh strawberries and whipped cream.\", \"Price\": 7.99, \"Availability\": \"Yes\", \"Spiciness Level\": \"Mild\", \"Calories\": 380, \"Recommended Drink\": \"Coffee\"}\n",
    "]"
   ]
  },
  {
   "cell_type": "markdown",
   "id": "0c9d0f78",
   "metadata": {},
   "source": [
    "#### Import pandas library for filtering or other task"
   ]
  },
  {
   "cell_type": "code",
   "execution_count": 281,
   "id": "e98458c6",
   "metadata": {},
   "outputs": [],
   "source": [
    "import pandas as pd"
   ]
  },
  {
   "cell_type": "markdown",
   "id": "026e6a30",
   "metadata": {},
   "source": [
    "####  First dictionary data convert into \"df\" DataFrame"
   ]
  },
  {
   "cell_type": "code",
   "execution_count": 117,
   "id": "e00bc12e",
   "metadata": {},
   "outputs": [],
   "source": [
    "df = pd.DataFrame.from_dict(restaurant_data)"
   ]
  },
  {
   "cell_type": "markdown",
   "id": "753420f3",
   "metadata": {},
   "source": [
    "####  Second dictionary data convert into \"df2\" DataFrame"
   ]
  },
  {
   "cell_type": "code",
   "execution_count": 119,
   "id": "2c9f5885",
   "metadata": {},
   "outputs": [],
   "source": [
    "df2 = pd.DataFrame.from_dict(restaurant_data_extend)"
   ]
  },
  {
   "cell_type": "markdown",
   "id": "65efd1c0",
   "metadata": {},
   "source": [
    "#### Drop Unnecessary columns from both DataFrame"
   ]
  },
  {
   "cell_type": "code",
   "execution_count": 129,
   "id": "d886a81f",
   "metadata": {},
   "outputs": [],
   "source": [
    "res_df_dropped = df.drop([\"Allergens\", \"Calories\", \"Availability\"], axis=1)\n",
    "res_df_dropped_2 = df2.drop([\"Calories\", \"Availability\"], axis=1)"
   ]
  },
  {
   "cell_type": "markdown",
   "id": "f1613128",
   "metadata": {},
   "source": [
    "#### Merged both data data frame into single data set which we use into further."
   ]
  },
  {
   "cell_type": "code",
   "execution_count": 130,
   "id": "2283a32f",
   "metadata": {},
   "outputs": [],
   "source": [
    "res_df = pd.concat([res_df_dropped, res_df_dropped_2], ignore_index=True)"
   ]
  },
  {
   "cell_type": "code",
   "execution_count": 254,
   "id": "228c8605",
   "metadata": {},
   "outputs": [
    {
     "data": {
      "text/html": [
       "<div>\n",
       "<style scoped>\n",
       "    .dataframe tbody tr th:only-of-type {\n",
       "        vertical-align: middle;\n",
       "    }\n",
       "\n",
       "    .dataframe tbody tr th {\n",
       "        vertical-align: top;\n",
       "    }\n",
       "\n",
       "    .dataframe thead th {\n",
       "        text-align: right;\n",
       "    }\n",
       "</style>\n",
       "<table border=\"1\" class=\"dataframe\">\n",
       "  <thead>\n",
       "    <tr style=\"text-align: right;\">\n",
       "      <th></th>\n",
       "      <th>ID</th>\n",
       "      <th>Type of Dish</th>\n",
       "      <th>Item Name</th>\n",
       "      <th>Description</th>\n",
       "      <th>Price</th>\n",
       "      <th>Spiciness Level</th>\n",
       "      <th>Recommended Drink</th>\n",
       "    </tr>\n",
       "  </thead>\n",
       "  <tbody>\n",
       "    <tr>\n",
       "      <th>0</th>\n",
       "      <td>1</td>\n",
       "      <td>Appetizer</td>\n",
       "      <td>Caprese Salad</td>\n",
       "      <td>Fresh mozzarella, tomatoes, and basil drizzled...</td>\n",
       "      <td>8.99</td>\n",
       "      <td>Mild</td>\n",
       "      <td>White Wine</td>\n",
       "    </tr>\n",
       "    <tr>\n",
       "      <th>1</th>\n",
       "      <td>2</td>\n",
       "      <td>Main Course</td>\n",
       "      <td>Grilled Salmon</td>\n",
       "      <td>Grilled salmon fillet served with lemon butter...</td>\n",
       "      <td>18.99</td>\n",
       "      <td>Moderate</td>\n",
       "      <td>Chardonnay</td>\n",
       "    </tr>\n",
       "    <tr>\n",
       "      <th>2</th>\n",
       "      <td>3</td>\n",
       "      <td>Dessert</td>\n",
       "      <td>Chocolate Lava Cake</td>\n",
       "      <td>Warm chocolate cake with a molten chocolate ce...</td>\n",
       "      <td>6.99</td>\n",
       "      <td>Moderate</td>\n",
       "      <td>Coffee</td>\n",
       "    </tr>\n",
       "    <tr>\n",
       "      <th>3</th>\n",
       "      <td>4</td>\n",
       "      <td>Appetizer</td>\n",
       "      <td>Spinach Artichoke Dip</td>\n",
       "      <td>Creamy dip with spinach, artichokes, and chees...</td>\n",
       "      <td>7.49</td>\n",
       "      <td>Mild</td>\n",
       "      <td>Beer</td>\n",
       "    </tr>\n",
       "    <tr>\n",
       "      <th>4</th>\n",
       "      <td>5</td>\n",
       "      <td>Main Course</td>\n",
       "      <td>Chicken Alfredo</td>\n",
       "      <td>Fettuccine pasta with creamy Alfredo sauce, gr...</td>\n",
       "      <td>14.99</td>\n",
       "      <td>Moderate</td>\n",
       "      <td>White Wine</td>\n",
       "    </tr>\n",
       "  </tbody>\n",
       "</table>\n",
       "</div>"
      ],
      "text/plain": [
       "   ID Type of Dish              Item Name  \\\n",
       "0   1    Appetizer          Caprese Salad   \n",
       "1   2  Main Course         Grilled Salmon   \n",
       "2   3      Dessert    Chocolate Lava Cake   \n",
       "3   4    Appetizer  Spinach Artichoke Dip   \n",
       "4   5  Main Course        Chicken Alfredo   \n",
       "\n",
       "                                         Description  Price Spiciness Level  \\\n",
       "0  Fresh mozzarella, tomatoes, and basil drizzled...   8.99            Mild   \n",
       "1  Grilled salmon fillet served with lemon butter...  18.99        Moderate   \n",
       "2  Warm chocolate cake with a molten chocolate ce...   6.99        Moderate   \n",
       "3  Creamy dip with spinach, artichokes, and chees...   7.49            Mild   \n",
       "4  Fettuccine pasta with creamy Alfredo sauce, gr...  14.99        Moderate   \n",
       "\n",
       "  Recommended Drink  \n",
       "0        White Wine  \n",
       "1        Chardonnay  \n",
       "2            Coffee  \n",
       "3              Beer  \n",
       "4        White Wine  "
      ]
     },
     "execution_count": 254,
     "metadata": {},
     "output_type": "execute_result"
    }
   ],
   "source": [
    "res_df.head()"
   ]
  },
  {
   "cell_type": "markdown",
   "id": "4e24af2f",
   "metadata": {},
   "source": [
    "### FILTER FUNCTIONS DEFINATION"
   ]
  },
  {
   "cell_type": "code",
   "execution_count": 276,
   "id": "18c53e16",
   "metadata": {},
   "outputs": [],
   "source": [
    "def type_of_dish(t_o_d):\n",
    "    filter_TOD = res_df[res_df[\"Type of Dish\"] == t_o_d]\n",
    "    print(filter_TOD)\n",
    "\n",
    "def item_name(item_count):\n",
    "    filter_item = res_df[res_df[\"ID\"] == item_count]\n",
    "    print(filter_item)\n",
    "\n",
    "def price(min, max):\n",
    "    filter_price_range = res_df[res_df[\"Price\"].between(min, max, inclusive=True)]\n",
    "    print(filter_price_range)\n",
    "\n"
   ]
  },
  {
   "cell_type": "markdown",
   "id": "285c07e8",
   "metadata": {},
   "source": [
    "### CATEGORY WISE FUNCTION DEFINATION"
   ]
  },
  {
   "cell_type": "code",
   "execution_count": null,
   "id": "21a8bf4f",
   "metadata": {},
   "outputs": [],
   "source": [
    "# funciton of choise 1. Type of Dish\n",
    "def main_menu_type_of_dish():\n",
    "    print(\"Welcome to our Menu. Chhose your type of Dish.\")\n",
    "    print(\"1. Appetizer\")\n",
    "    print(\"2. Main Course\")\n",
    "    print(\"3. Dessert\")\n",
    "    \n",
    "    try:\n",
    "        type_of_dish_choice = int(input(\"Enter Your dish type choise in Number: \"))\n",
    "        print(\"\\n\")\n",
    "        if type_of_dish_choice > 3 or type_of_dish_choice < 1:\n",
    "            print(\"!!! Please enter valid choise !!! \")\n",
    "        if type_of_dish_choice == 1:\n",
    "            type_of_dish(\"Appetizer\")\n",
    "        elif type_of_dish_choice == 2:\n",
    "            type_of_dish(\"Main Course\")\n",
    "        else:\n",
    "            type_of_dish(\"Dessert\")\n",
    "    except ValueError:\n",
    "        print(\"No valid integer! Please try again ...\")\n",
    "        \n",
    "# function of choise 2. Price Range\n",
    "def main_menu_price_range():\n",
    "    print(\"Kindly enter Your minimum price or maximum price between 5 to 18\")\n",
    "    min = int(input(\"Enter minimum price: \"))\n",
    "    max = int(input(\"Enter maximum price: \"))\n",
    "    price(min, max)\n",
    "\n",
    "# function of choise 3. Item name\n",
    "def main_menu_item_name():\n",
    "    print(res_df.loc[: ,  ['ID' , 'Item Name']])\n",
    "    item_count = int(input(\"chhose your Item to see full details of item \"))\n",
    "    item_name(item_count)"
   ]
  },
  {
   "cell_type": "markdown",
   "id": "8da7d31d",
   "metadata": {},
   "source": [
    "### MAIN CODE"
   ]
  },
  {
   "cell_type": "code",
   "execution_count": 280,
   "id": "8fef8abb",
   "metadata": {},
   "outputs": [
    {
     "name": "stdout",
     "output_type": "stream",
     "text": [
      "Make choise through this topics:-\n",
      "1. Type of Dish \n",
      "2. Price Range\n",
      "3. Item name\n",
      "Enter your choise : 2\n",
      "\n",
      "\n",
      "Kindly enter Your minimum price or maximum price between 5 to 18\n",
      "Enter minimum price: 6\n",
      "Enter maximum price: 18\n",
      "    ID Type of Dish              Item Name  \\\n",
      "0    1    Appetizer          Caprese Salad   \n",
      "2    3      Dessert    Chocolate Lava Cake   \n",
      "3    4    Appetizer  Spinach Artichoke Dip   \n",
      "4    5  Main Course        Chicken Alfredo   \n",
      "5    6      Dessert               Tiramisu   \n",
      "6    7    Appetizer    Shrimp Spring Rolls   \n",
      "7    8  Main Course          Beef Stir Fry   \n",
      "8    9      Dessert             Cheesecake   \n",
      "9   10    Appetizer             Bruschetta   \n",
      "10  11  Main Course       Vegetarian Curry   \n",
      "12  13    Appetizer      Mozzarella Sticks   \n",
      "13  14  Main Course        Pasta Carbonara   \n",
      "14  15      Dessert        Red Velvet Cake   \n",
      "15  16    Appetizer          Chicken Wings   \n",
      "16  17  Main Course          Steak Fajitas   \n",
      "17  18      Dessert           Key Lime Pie   \n",
      "18  19    Appetizer                 Nachos   \n",
      "19  20  Main Course     Vegetable Stir Fry   \n",
      "21  22    Appetizer           Caesar Salad   \n",
      "22  23  Main Course       Margherita Pizza   \n",
      "23  24      Dessert   Strawberry Shortcake   \n",
      "\n",
      "                                          Description  Price Spiciness Level  \\\n",
      "0   Fresh mozzarella, tomatoes, and basil drizzled...   8.99            Mild   \n",
      "2   Warm chocolate cake with a molten chocolate ce...   6.99        Moderate   \n",
      "3   Creamy dip with spinach, artichokes, and chees...   7.49            Mild   \n",
      "4   Fettuccine pasta with creamy Alfredo sauce, gr...  14.99        Moderate   \n",
      "5   Classic Italian dessert made with layers of co...   8.49            Mild   \n",
      "6   Fresh spring rolls filled with shrimp, vegetab...   9.99        Moderate   \n",
      "7   Sliced beef, mixed vegetables, and soy sauce s...  16.49           Spicy   \n",
      "8   New York-style cheesecake topped with strawber...   7.99            Mild   \n",
      "9   Grilled bread rubbed with garlic, topped with ...   6.29            Mild   \n",
      "10  Mixed vegetables and tofu cooked in a flavorfu...  12.99           Spicy   \n",
      "12  Fried mozzarella cheese sticks served with mar...   7.49            Mild   \n",
      "13  Spaghetti pasta with creamy egg and pancetta s...  12.99            Mild   \n",
      "14  Moist red velvet cake with cream cheese frosting.   6.99            Mild   \n",
      "15  Crispy chicken wings tossed in your choice of ...   9.99           Spicy   \n",
      "16  Sizzling marinated steak strips served with sa...  17.99        Moderate   \n",
      "17  Tangy key lime pie with a graham cracker crust...   7.49            Mild   \n",
      "18  Tortilla chips topped with melted cheese, jala...   8.99           Spicy   \n",
      "19  Assorted vegetables stir-fried in a savory sau...  11.99            Mild   \n",
      "21  Crisp romaine lettuce, croutons, Parmesan chee...   6.99            Mild   \n",
      "22  Classic pizza with tomato sauce, mozzarella ch...  10.99            Mild   \n",
      "23  Sponge cake layered with fresh strawberries an...   7.99            Mild   \n",
      "\n",
      "   Recommended Drink  \n",
      "0         White Wine  \n",
      "2             Coffee  \n",
      "3               Beer  \n",
      "4         White Wine  \n",
      "5           Espresso  \n",
      "6           Iced Tea  \n",
      "7               Sake  \n",
      "8             Coffee  \n",
      "9         White Wine  \n",
      "10             Lassi  \n",
      "12              Beer  \n",
      "13        White Wine  \n",
      "14            Coffee  \n",
      "15          Iced Tea  \n",
      "16         Margarita  \n",
      "17          Lemonade  \n",
      "18              Beer  \n",
      "19         Green Tea  \n",
      "21        White Wine  \n",
      "22              Beer  \n",
      "23            Coffee  \n"
     ]
    },
    {
     "name": "stderr",
     "output_type": "stream",
     "text": [
      "C:\\Users\\Lenovo\\AppData\\Local\\Temp\\ipykernel_24508\\1176433525.py:10: FutureWarning: Boolean inputs to the `inclusive` argument are deprecated in favour of `both` or `neither`.\n",
      "  filter_price_range = res_df[res_df[\"Price\"].between(min, max, inclusive=True)]\n"
     ]
    }
   ],
   "source": [
    "while True:\n",
    "    print(\"Make choise through this topics:-\")\n",
    "    print(\"1. Type of Dish \")\n",
    "    print(\"2. Price Range\")\n",
    "    print(\"3. Item name\")\n",
    "    \n",
    "    try:\n",
    "        choice = int(input(\"Enter your choise : \"))\n",
    "        print(\"\\n\")\n",
    "        if choice > 3 or choice < 1:\n",
    "            print(\"!!! Please enter valid choise !!! \")\n",
    "        elif choice == 1:\n",
    "            main_menu_type_of_dish()\n",
    "        elif choice == 2:\n",
    "            main_menu_price_range()\n",
    "        else:\n",
    "            main_menu_item_name()\n",
    "    except ValueError:\n",
    "        print(\"No valid integer! Please try again ...\")\n",
    "\n",
    "        "
   ]
  },
  {
   "cell_type": "code",
   "execution_count": null,
   "id": "bae11048",
   "metadata": {},
   "outputs": [],
   "source": []
  },
  {
   "cell_type": "code",
   "execution_count": null,
   "id": "d4b3f01b",
   "metadata": {},
   "outputs": [],
   "source": []
  }
 ],
 "metadata": {
  "kernelspec": {
   "display_name": "Python 3 (ipykernel)",
   "language": "python",
   "name": "python3"
  },
  "language_info": {
   "codemirror_mode": {
    "name": "ipython",
    "version": 3
   },
   "file_extension": ".py",
   "mimetype": "text/x-python",
   "name": "python",
   "nbconvert_exporter": "python",
   "pygments_lexer": "ipython3",
   "version": "3.10.9"
  }
 },
 "nbformat": 4,
 "nbformat_minor": 5
}
